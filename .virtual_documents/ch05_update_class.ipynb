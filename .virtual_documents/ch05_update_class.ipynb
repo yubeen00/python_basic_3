


import numpy as np
import pandas as pd


from pandas import Series, DataFrame # pandas  자료구조

import matplotlib.pyplot as plt #시각화





np.random.seed(12345)

plt.rc("figure", figsize=(10, 6))
PREVIOUS_MAX_ROWS = pd.options.display.max_rows
pd.options.display.max_rows = 20
pd.options.display.max_columns = 20
pd.options.display.max_colwidth = 80
np.set_printoptions(precision=4, suppress=True)
plt.rcParams["font.family"] = 'Malgun Gothic' # 한글 폰트 변경 정보











data = [4,7,-5,3] #파이썬의 리스트  타입 변수
obj = pd.Series(data, index=["a","b","c","d"]) # Series([4,7,-5,3])
obj # 시리즈 객체 : 색인(0부터 시작)과 데이터





arr = (3,4,1,2) # tuple 타입
data2 = pd.Series(arr, index = ['o','t','th','f'])
data2





sdata = {"Ohio": 35000, "Texas": 71000, "Oregon": 16000, "Utah": 5000} #dict
# dict의 메서드
sdata.keys()
sdata.values()
sdata.items()
obj3 = pd.Series(sdata) # Series  객체의 색인은 딕셔너리의 keys 메서드에서 반환하는 키의 값 순서대로 들어감
obj3





data = obj3.values # Series의 저장된 값들을 가져오기
print(data)
type(obj3.values)





obj3.to_dict() # series -> python dictionary 변환








sdata = {"Ohio": 35000, "Texas": 71000, "Oregon": 16000, "Utah": 5000}
states = ["California", "Ohio", "Oregon", "Texas"] 
obj4 = pd.Series(sdata, index=states)
obj4

# NaN (Not a Number) - null, 결측치


obj4.index





print(obj4)
obj4.shape





obj4.values





print(obj4)
print()
obj4.size





obj4.dtype


#ex
s = Series([2,3.5,'abc'])
print(s)
print()
s.dtype





obj4.describe()





obj4.max()


obj4.mean()


obj4.min()





obj4.isna()  # boolean 시리
# pd.notna(obj4)





print(obj4)
obj4.value_counts()





print(obj3)
print()
print(obj4)
print()
obj3 + obj4


obj3.add(obj4)





a = (obj4 + 1000)
print(a)






sample = Series(data=[89,90,78,65,90,100,78,55,40,90], index=['a','b','c','d','e','f','g','h','i','j'])
sample.isin([89])























# 60 이상이면 pass, 60 미만이면 fail로 변경하는 함수
print(sample)

print()

def pass_fail(val):
    if val >= 60:
        return 'pass'
    else:
        return 'fail'

# 함수 적용
sample.apply(pass_fail)



pd.core.series.Series


# 익명함수로 코딩
sample.apply(lambda val: 'pass' if val >= 60 else 'fail')





obj4.name = "population"
obj4.index.name = "state"
obj4








list(range(10))
print(np.arange(10))





obj = pd.Series(np.arange(4.0), index=["a", "b", "c", "d"])
obj


obj["b"] # 인덱스 라벨로 선택





obj[["b","d"]]  # 2, 4번쩨 데이터 선택 - 순서X


obj[['b','d']]





obj[1:3] #1,2


obj[-3:-1]


obj['b':'c'] # 레이블별 인덱스는 포함


obj.loc[['b','c']]


obj.iloc[[1,2]]





obj


# 1. 조건식 정의
bool_index = obj < 2 # 조건 색인
bool_index


# 2. 조건 색인을 이용하여 True에 해당하는 데이터 추출 -> 새로운 시리즈
obj[bool_index]


























#1. Pandas 라이브러리 임포트
import pandas as pd
from pandas import Series, DataFrame
# 2. DataFrame 생성하고 데이터 할당하기 : 로우 인덱스와 컬럼 인덱스을  지정하지 않을 경우 기본값으로 할당
df = DataFrame(data = [[1,2,3],
                       ['kim','park','lee'],
                       [90, 80, 100]
                      ])
df


#3. 로우 인덱스와 컬럼 인덱스 지정하기
df1 = DataFrame(data = [[1,2,3],
                       ['kim','park','lee'],
                       [90, 80, 100]], index = ['r1','r2','r3'], columns =['c1','c2','c3'])
df1





#1. 딕셔너리 타입 데이터를 생성하기 - 키값이 컬럼에 대응
data = {"state": ["Ohio", "Ohio", "Ohio", "Nevada", "Nevada", "Nevada"],
        "year": [2000, 2001, 2002, 2001, 2002, 2003],
        "pop": [1.5, 1.7, 3.6, 2.4, 2.9, 3.2]}
frame = pd.DataFrame(data)
frame


# 2. 인덱스 변경
frame.index = ['a','b','c','d','e','f']
frame














# 1. index : 데이터프레임의 인덱스를 리스트로 반환
print(frame)
frame.index


# 2. columns : 데이터프레임의 컬럼을 리스트로 반환
frame.columns


# 3. values : 데이터프레임의 데이터 반환(numpy.ndarray)
frame.values
# type(frame.values)


# 4. shape : 행과 열의 개수을 튜플로 반환
frame.shape


frame.head() # 처음 5개행을 출력


# 5. T (Transpose) : 행과 열 바꾸기
frame.T


# 7. dtypes : 컬럼별 데이터타입 반환
frame.dtypes


# 8. size : 데이터프레임의 원소의 개수를 반환
frame.size





# 1. info() - 데이터프레임의 기본 정보 출력
frame.info()


# 2. describe() -  숫자형 컬럼별 기본적인 통계 정보 출력
frame.describe()


# 3. 통계함수 (mean(), sum(), max(), min(),quantile()...)
frame[['year','pop']].mean()
frame[['year','pop']].sum()
frame[['year','pop']].max()
frame[['year','pop']].min()


# 4. sample(개수) : 전체 데이터의 일부 데이머를 랜덤으로 선택
frame.sample(2, axis = 0)
frame.sample(2, axis = 1)


# 5.head(x), tail(x) - 맨 앞 혹은 맨 뒤 x 개의 데이터 출력


frame.head()
frame.tail() 


# 6. nunique() : - 컬럼별 unique한 값의 개수
frame
frame.nunique()


# 7. plot() - 데이터 시각화
frame.plot()



df2.plot()





data = {"state": ["Ohio", "Ohio", "Ohio", "Nevada", "Nevada", "Nevada"],
        "year": [2000, 2001, 2002, 2001, 2002, 2003],
        "pop": [1.5, 1.7, 3.6, 2.4, 2.9, 3.2]}
pd.DataFrame(data, columns=["year", "state", "pop"]) # columns을 원하는 순서대로 지정


frame2 = pd.DataFrame(data, columns=["year", "state", "pop"])
frame2
frame2.columns





frame2


# 1) state만 조회
frame2["state"]
type(frame2['state']) # Series 객체
# frame2.state


# 2) year와 pop 조회하기 - 색인 기호 안에 조회할 2개 이상의 컬럼명들을 리스트로 작성
frame2[['year','pop']]





# 1) 2번째 행 조회
frame2.loc[1]
frame2.iloc[1]





frame2


frame2.loc[1:3]


frame2.iloc[1:3]


frame2[1:3] # loc, iloc 생략





frame2


frame2[['year','pop']].loc[1:4] # 2번째부터 4번째의 year와 pop 선택 -열을 먼저 선택하고 행 선택


frame2.loc[1:4][['year','pop']] # 행을 먼저 선택 후 열을 선택


frame2.loc[[1,2,3], ['year','pop']] # 행과 열을 동시에 명시


frame2.loc[1:4, ['year','pop']] # 행과 열을 동시에 슬라이싱


frame2.loc[:,['year', 'pop']] # 전체의 year & prop 가져오기





# pop가 2.5이상인 행 데이터 선택
frame2['pop'] >= 2.5
frame2[frame2['pop'] >= 2.5]





# 1) 1차원 데이터 간의 연산 : 짝이 맞지 않는 색인이 있는 경우 결과에 두 색인 통합된다.
s1 = pd.Series([7.3, -2.5, 3.4, 1.5], index = ['a','c','d','e'])
print(s1)
s2 = pd.Series([-2.1, 3.6, -1.5, 4, 3.1], index =['a','c','e','f','g'])
print(s2)
s1 + s2  # 서로 겹치는 색인이 없는 경우 데이터는 결측치가 된다. 추후 산술 연산 시 누락돈 값이 전달됨


# 2)1차원 데이터 간의 산술 연산 : 같은 색인 라벨의 값들끼리 산술 연산이 수행
sr1 = pd.Series([4500, 2800, 3000], index = ['a','b','c'])
sr2 = pd.Series([4800, 3500, 2500], index = ['a','b','c'])
sr1 + sr2


# 3) 1차원 데이터와 값 간의 연산 : series + 스칼라 (broadcasting)
sr = pd.Series([3,5,7])
sr + 10








frame2["debt"] = 16.5 # 'debt' 컬럼추가 후, 값을 모두 16.5로 저장
frame2

frame2["debt"] = np.arange(6.) #원본 데이터프레임의 행의 개수와 신규로 할당되는 리스트나 배열 값의 개수가 일치
frame2

frame2["debt"] = [2.3,2.7,2.6,3.4,3.9,4.2]
frame2


# Series를 대입하면 DataFrame의 색인에 따라 값이 대입되며 존재하지 않는 색인에는 결측치가 대입됨
val = pd.Series([-1.2, -1.5, -1.7],  index=["two", "four", "five"])
val.shape
frame2["debt"] = val  # Series 객체는 기존 데이터프레임의 shape, index 이름이 동일해야만 추가 가능
frame2


frame2["state"] == "Ohio" # 존재하지 않는 열을 대입할 경우에는 새로운 열이 생성
frame2["eastern"] = frame2["state"] == "Ohio" # 기존 컬럼에 조건 색인을 적용한 결과을 추가
frame2





# p.226
import pandas as pd
import numpy as np
frame = pd.DataFrame(np.random.standard_normal((4,3)),
                     columns = list("bde"),
                     index = ["Utah", "Ohio","Texas", "Oregon"])
frame

# 각 행이나 열의 1차원 배열에 함수를 적용하기 위한 함수: DataFrame.apply(함수, axis=)
#1. 함수 정의
def f1(x):
    return x.max() - x.min()
#2. 이 함수을 각 열에 적용하기-> 열을 색인으로 하는 Series 반환
frame.apply(f1, axis = 0)
# 3. 이 함수을 각 행에 적용하기 -> 행을 색인으로 하는 Series 반환
frame.apply(f1, axis = 1)


# p.227
np.random.seed(1)
print(frame)
def f2(x):
    return pd.Series([x.min(), x.max()], index=['min', 'max'])
frame.apply(f2)
                     











# perDebt 컬럼을 추가하고, debt을 pop의 값을 나눈 값으로 할당하기
frame2['perDebt'] = frame2['debt']/frame2['pop']
frame2





del frame2["eastern"]
frame2.columns





obj = pd.Series([4.5, 7.2, -5.3, 3.6], index=["d", "b", "a", "c"])
obj


obj2 = obj.reindex(["a", "b", "c", "d", "e"])
obj2


obj3 = pd.Series(["blue", "purple", "yellow"], index=[0, 2, 4])
obj3
obj3.reindex(np.arange(6), method="ffill")


frame = pd.DataFrame(np.arange(9).reshape((3, 3)),
                     index=["a", "c", "d"],
                     columns=["Ohio", "Texas", "California"])
frame
frame2 = frame.reindex(index=["a", "b", "c", "d"])
frame2


states = ["Texas", "Utah", "California"]
frame.reindex(columns=states)


frame.reindex(states, axis="columns")


frame.loc[["a", "d", "c"], ["California", "Texas"]]





obj = pd.Series(np.arange(5.), index=["a", "b", "c", "d", "e"])
obj
new_obj = obj.drop("c")
new_obj
obj.drop(["d", "c"])


data = pd.DataFrame(np.arange(16).reshape((4, 4)),
                    index=["Ohio", "Colorado", "Utah", "New York"],
                    columns=["one", "two", "three", "four"])
data


data.drop(index=["Colorado", "Ohio"])


data.drop(columns=["two"])


data.drop("two", axis=1)
data.drop(["two", "four"], axis="columns")





obj = pd.Series(np.arange(4.), index=["a", "b", "c", "d"])
obj
obj["b"]
obj[1]
obj[2:4]
obj[["b", "a", "d"]]
obj[[1, 3]]
obj[obj < 2]


obj.loc[["b", "a", "d"]]


obj1 = pd.Series([1, 2, 3], index=[2, 0, 1])
obj2 = pd.Series([1, 2, 3], index=["a", "b", "c"])
obj1
obj2
obj1[[0, 1, 2]]
obj2[[0, 1, 2]]


obj1.iloc[[0, 1, 2]]
obj2.iloc[[0, 1, 2]]


obj2.loc["b":"c"]


obj2.loc["b":"c"] = 5
obj2


data = pd.DataFrame(np.arange(16).reshape((4, 4)),
                    index=["Ohio", "Colorado", "Utah", "New York"],
                    columns=["one", "two", "three", "four"])
data
data["two"]
data[["three", "one"]]


data[:2]
data[data["three"] > 5]


data < 5


data[data < 5] = 0
data


data
data.loc["Colorado"]


data.loc[["Colorado", "New York"]]


data.loc["Colorado", ["two", "three"]]


data.iloc[2]
data.iloc[[2, 1]]
data.iloc[2, [3, 0, 1]]
data.iloc[[1, 2], [3, 0, 1]]


data.loc[:"Utah", "two"]
data.iloc[:, :3][data.three > 5]


data.loc[data.three >= 2]


ser = pd.Series(np.arange(3.))
ser
ser[-1]


ser


ser2 = pd.Series(np.arange(3.), index=["a", "b", "c"])
ser2[-1]


ser.iloc[-1]


ser[:2]


data.loc[:, "one"] = 1
data
data.iloc[2] = 5
data
data.loc[data["four"] > 5] = 3
data


data.loc[data.three == 5]["three"] = 6


data


data.loc[data.three == 5, "three"] = 6
data


s1 = pd.Series([7.3, -2.5, 3.4, 1.5], index=["a", "c", "d", "e"])
s2 = pd.Series([-2.1, 3.6, -1.5, 4, 3.1],
               index=["a", "c", "e", "f", "g"])
s1
s2


s1 + s2


df1 = pd.DataFrame(np.arange(9.).reshape((3, 3)), columns=list("bcd"),
                   index=["Ohio", "Texas", "Colorado"])
df2 = pd.DataFrame(np.arange(12.).reshape((4, 3)), columns=list("bde"),
                   index=["Utah", "Ohio", "Texas", "Oregon"])
df1
df2


df1 + df2


df1 = pd.DataFrame({"A": [1, 2]})
df2 = pd.DataFrame({"B": [3, 4]})
df1
df2
df1 + df2


df1 = pd.DataFrame(np.arange(12.).reshape((3, 4)),
                   columns=list("abcd"))
df2 = pd.DataFrame(np.arange(20.).reshape((4, 5)),
                   columns=list("abcde"))
df2.loc[1, "b"] = np.nan
df1
df2


df1 + df2


df1.add(df2, fill_value=0)


1 / df1
df1.rdiv(1)


df1.reindex(columns=df2.columns, fill_value=0)


arr = np.arange(12.).reshape((3, 4))
arr
arr[0]
arr - arr[0]


frame = pd.DataFrame(np.arange(12.).reshape((4, 3)),
                     columns=list("bde"),
                     index=["Utah", "Ohio", "Texas", "Oregon"])
series = frame.iloc[0]
frame
series


frame - series


series2 = pd.Series(np.arange(3), index=["b", "e", "f"])
series2
frame + series2


series3 = frame["d"]
frame
series3
frame.sub(series3, axis="index")


frame = pd.DataFrame(np.random.standard_normal((4, 3)),
                     columns=list("bde"),
                     index=["Utah", "Ohio", "Texas", "Oregon"])
frame
np.abs(frame)


def f1(x):
    return x.max() - x.min()

frame.apply(f1)


frame.apply(f1, axis="columns")


def f2(x):
    return pd.Series([x.min(), x.max()], index=["min", "max"])
frame.apply(f2)


def my_format(x):
    return f"{x:.2f}"

frame.applymap(my_format)


frame["e"].map(my_format)


obj = pd.Series(np.arange(4), index=["d", "a", "b", "c"])
obj
obj.sort_index()


frame = pd.DataFrame(np.arange(8).reshape((2, 4)),
                     index=["three", "one"],
                     columns=["d", "a", "b", "c"])
frame
frame.sort_index()
frame.sort_index(axis="columns")


frame.sort_index(axis="columns", ascending=False)


obj = pd.Series([4, 7, -3, 2])
obj.sort_values()


obj = pd.Series([4, np.nan, 7, np.nan, -3, 2])
obj.sort_values()


obj.sort_values(na_position="first")


frame = pd.DataFrame({"b": [4, 7, -3, 2], "a": [0, 1, 0, 1]})
frame
frame.sort_values("b")


frame.sort_values(["a", "b"])


obj = pd.Series([7, -5, 7, 4, 2, 0, 4])
obj.rank()


obj.rank(method="first")


obj.rank(ascending=False)


frame = pd.DataFrame({"b": [4.3, 7, -3, 2], "a": [0, 1, 0, 1],
                      "c": [-2, 5, 8, -2.5]})
frame
frame.rank(axis="columns")


obj = pd.Series(np.arange(5), index=["a", "a", "b", "b", "c"])
obj


obj.index.is_unique


obj["a"]
obj["c"]


df = pd.DataFrame(np.random.standard_normal((5, 3)),
                  index=["a", "a", "b", "b", "c"])
df
df.loc["b"]
df.loc["c"]


df = pd.DataFrame([[1.4, np.nan], [7.1, -4.5],
                   [np.nan, np.nan], [0.75, -1.3]],
                  index=["a", "b", "c", "d"],
                  columns=["one", "two"])
df


df.sum()


df.sum(axis="columns")


df.sum(axis="index", skipna=False)
df.sum(axis="columns", skipna=False)


df.mean(axis="columns")


df.idxmax()


df.cumsum()


df.describe()


obj = pd.Series(["a", "a", "b", "c"] * 4)
obj.describe()


price = pd.read_pickle("examples/yahoo_price.pkl")
volume = pd.read_pickle("examples/yahoo_volume.pkl")


returns = price.pct_change()
returns.tail()


returns["MSFT"].corr(returns["IBM"])
returns["MSFT"].cov(returns["IBM"])


returns.corr()
returns.cov()


returns.corrwith(returns["IBM"])


returns.corrwith(volume)


obj = pd.Series(["c", "a", "d", "a", "a", "b", "b", "c", "c"])


uniques = obj.unique()
uniques


obj.value_counts()


pd.value_counts(obj.to_numpy(), sort=False)


obj
mask = obj.isin(["b", "c"])
mask
obj[mask]


to_match = pd.Series(["c", "a", "b", "b", "c", "a"])
unique_vals = pd.Series(["c", "b", "a"])
indices = pd.Index(unique_vals).get_indexer(to_match)
indices


data = pd.DataFrame({"Qu1": [1, 3, 4, 3, 4],
                     "Qu2": [2, 3, 1, 2, 3],
                     "Qu3": [1, 5, 2, 4, 4]})
data


data["Qu1"].value_counts().sort_index()


result = data.apply(pd.value_counts).fillna(0)
result


data = pd.DataFrame({"a": [1, 1, 1, 2, 2], "b": [0, 0, 1, 0, 0]})
data
data.value_counts()





pd.options.display.max_rows = PREVIOUS_MAX_ROWS

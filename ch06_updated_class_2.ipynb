{
 "cells": [
  {
   "cell_type": "markdown",
   "metadata": {},
   "source": [
    "# 6장 데이터 로딩과 저장, 파일 형식"
   ]
  },
  {
   "cell_type": "code",
   "execution_count": 1,
   "metadata": {},
   "outputs": [],
   "source": [
    "import numpy as np\n",
    "import pandas as pd\n",
    "from pandas import DataFrame, Series\n",
    "np.random.seed(12345)\n",
    "import matplotlib.pyplot as plt\n",
    "plt.rc(\"figure\", figsize=(10, 6))\n",
    "pd.options.display.max_colwidth = 75\n",
    "pd.options.display.max_columns = 20\n",
    "pd.options.display.max_rows = 10\n",
    "np.set_printoptions(precision=4, suppress=True)\n",
    "plt.rcParams[\"font.family\"] = 'Malgun Gothic'"
   ]
  },
  {
   "cell_type": "markdown",
   "metadata": {},
   "source": [
    "# 1. csv 텍스트 데이터\n",
    "## 1.1 csv파일 읽기\n",
    "* 판다스에서 CSV 파일을 읽기: pd.read_csv(path, encoding = 'utf-8') 함수를 사용\n",
    "    * path 인수 : 파일시스템에서의 위치, URL, 파일객체를 나타내는 문자열\n",
    "    * encoding 인수 - 유니코드 인코딩 종류을 지정\n"
   ]
  },
  {
   "cell_type": "markdown",
   "metadata": {},
   "source": [
    "    1) header(컬럼명)가 있는 파일"
   ]
  },
  {
   "cell_type": "code",
   "execution_count": 2,
   "metadata": {
    "scrolled": true
   },
   "outputs": [
    {
     "data": {
      "text/html": [
       "<div>\n",
       "<style scoped>\n",
       "    .dataframe tbody tr th:only-of-type {\n",
       "        vertical-align: middle;\n",
       "    }\n",
       "\n",
       "    .dataframe tbody tr th {\n",
       "        vertical-align: top;\n",
       "    }\n",
       "\n",
       "    .dataframe thead th {\n",
       "        text-align: right;\n",
       "    }\n",
       "</style>\n",
       "<table border=\"1\" class=\"dataframe\">\n",
       "  <thead>\n",
       "    <tr style=\"text-align: right;\">\n",
       "      <th></th>\n",
       "      <th>a</th>\n",
       "      <th>b</th>\n",
       "      <th>c</th>\n",
       "      <th>d</th>\n",
       "      <th>message</th>\n",
       "    </tr>\n",
       "  </thead>\n",
       "  <tbody>\n",
       "    <tr>\n",
       "      <th>0</th>\n",
       "      <td>1</td>\n",
       "      <td>2</td>\n",
       "      <td>3</td>\n",
       "      <td>4</td>\n",
       "      <td>hello</td>\n",
       "    </tr>\n",
       "    <tr>\n",
       "      <th>1</th>\n",
       "      <td>5</td>\n",
       "      <td>6</td>\n",
       "      <td>7</td>\n",
       "      <td>8</td>\n",
       "      <td>world</td>\n",
       "    </tr>\n",
       "  </tbody>\n",
       "</table>\n",
       "</div>"
      ],
      "text/plain": [
       "   a  b  c  d message\n",
       "0  1  2  3  4   hello\n",
       "1  5  6  7  8   world"
      ]
     },
     "execution_count": 2,
     "metadata": {},
     "output_type": "execute_result"
    }
   ],
   "source": [
    "#!cat examples/ex1.csv\n",
    "\n",
    "df = pd.read_csv(\"examples/ex1.csv\") # 데이터프레임으로 반환\n",
    "df.head(2)"
   ]
  },
  {
   "cell_type": "markdown",
   "metadata": {},
   "source": [
    "    2) header가 없는 파일 : 컬럼을 지정\n",
    "        * names 인수 - 열 이름 리스트\n",
    "        * header 인수 - 헤더가 없을 경우 None으로 지정"
   ]
  },
  {
   "cell_type": "code",
   "execution_count": 3,
   "metadata": {
    "scrolled": true
   },
   "outputs": [
    {
     "data": {
      "text/plain": [
       "0    hello\n",
       "1    world\n",
       "2      foo\n",
       "Name: message, dtype: object"
      ]
     },
     "execution_count": 3,
     "metadata": {},
     "output_type": "execute_result"
    }
   ],
   "source": [
    "#!cat examples/ex2.csv\n",
    "names = [\"a\", \"b\", \"c\", \"d\", \"message\"]\n",
    "data = pd.read_csv(\"examples/ex2.csv\", names=names)\n",
    "data['message'] # Series"
   ]
  },
  {
   "cell_type": "markdown",
   "metadata": {},
   "source": [
    "    3) 계층적 색인 지정하기\n",
    "        * index_col 인수 - 색인으로 사용할 열 번호나 이름, 계층적 색인을 지정할 경우 리스트"
   ]
  },
  {
   "cell_type": "code",
   "execution_count": 4,
   "metadata": {},
   "outputs": [
    {
     "data": {
      "text/plain": [
       "Index(['value1', 'value2'], dtype='object')"
      ]
     },
     "execution_count": 4,
     "metadata": {},
     "output_type": "execute_result"
    }
   ],
   "source": [
    "# !cat examples/csv_mindex.csv\n",
    "parsed = pd.read_csv(\"examples/csv_mindex.csv\",\n",
    "                     index_col=[\"key1\", \"key2\"]) #계층적 색인\n",
    "parsed.columns"
   ]
  },
  {
   "cell_type": "markdown",
   "metadata": {},
   "source": [
    "    4) 여러 개의 공백으로 필드를 구분한 파일 \n",
    "        * sep 인수 - 필드을 구분하기 위해 사용할 정규 표현식"
   ]
  },
  {
   "cell_type": "code",
   "execution_count": 5,
   "metadata": {},
   "outputs": [
    {
     "data": {
      "text/html": [
       "<div>\n",
       "<style scoped>\n",
       "    .dataframe tbody tr th:only-of-type {\n",
       "        vertical-align: middle;\n",
       "    }\n",
       "\n",
       "    .dataframe tbody tr th {\n",
       "        vertical-align: top;\n",
       "    }\n",
       "\n",
       "    .dataframe thead th {\n",
       "        text-align: right;\n",
       "    }\n",
       "</style>\n",
       "<table border=\"1\" class=\"dataframe\">\n",
       "  <thead>\n",
       "    <tr style=\"text-align: right;\">\n",
       "      <th></th>\n",
       "      <th>A</th>\n",
       "      <th>B</th>\n",
       "      <th>C</th>\n",
       "    </tr>\n",
       "  </thead>\n",
       "  <tbody>\n",
       "    <tr>\n",
       "      <th>aaa</th>\n",
       "      <td>-0.264438</td>\n",
       "      <td>-1.026059</td>\n",
       "      <td>-0.619500</td>\n",
       "    </tr>\n",
       "    <tr>\n",
       "      <th>bbb</th>\n",
       "      <td>0.927272</td>\n",
       "      <td>0.302904</td>\n",
       "      <td>-0.032399</td>\n",
       "    </tr>\n",
       "    <tr>\n",
       "      <th>ccc</th>\n",
       "      <td>-0.264273</td>\n",
       "      <td>-0.386314</td>\n",
       "      <td>-0.217601</td>\n",
       "    </tr>\n",
       "    <tr>\n",
       "      <th>ddd</th>\n",
       "      <td>-0.871858</td>\n",
       "      <td>-0.348382</td>\n",
       "      <td>1.100491</td>\n",
       "    </tr>\n",
       "  </tbody>\n",
       "</table>\n",
       "</div>"
      ],
      "text/plain": [
       "            A         B         C\n",
       "aaa -0.264438 -1.026059 -0.619500\n",
       "bbb  0.927272  0.302904 -0.032399\n",
       "ccc -0.264273 -0.386314 -0.217601\n",
       "ddd -0.871858 -0.348382  1.100491"
      ]
     },
     "execution_count": 5,
     "metadata": {},
     "output_type": "execute_result"
    }
   ],
   "source": [
    "#!cat examples/ex3.txt\n",
    "\n",
    "result = pd.read_csv(\"examples/ex3.txt\",sep=\"\\s+\") #\\s+ -> 스페이스바가 0개 이상\n",
    "result"
   ]
  },
  {
   "cell_type": "markdown",
   "metadata": {},
   "source": [
    "    5) 주석을 갖고 있는 파일\n",
    "        * skiprows 인수 - 파일의 시작부터 무시할 행 수 또는 무시할 행 번호가 담긴 리스트"
   ]
  },
  {
   "cell_type": "code",
   "execution_count": 6,
   "metadata": {},
   "outputs": [
    {
     "data": {
      "text/html": [
       "<div>\n",
       "<style scoped>\n",
       "    .dataframe tbody tr th:only-of-type {\n",
       "        vertical-align: middle;\n",
       "    }\n",
       "\n",
       "    .dataframe tbody tr th {\n",
       "        vertical-align: top;\n",
       "    }\n",
       "\n",
       "    .dataframe thead th {\n",
       "        text-align: right;\n",
       "    }\n",
       "</style>\n",
       "<table border=\"1\" class=\"dataframe\">\n",
       "  <thead>\n",
       "    <tr style=\"text-align: right;\">\n",
       "      <th></th>\n",
       "      <th>a</th>\n",
       "      <th>b</th>\n",
       "      <th>c</th>\n",
       "      <th>d</th>\n",
       "      <th>message</th>\n",
       "    </tr>\n",
       "  </thead>\n",
       "  <tbody>\n",
       "    <tr>\n",
       "      <th>0</th>\n",
       "      <td>1</td>\n",
       "      <td>2</td>\n",
       "      <td>3</td>\n",
       "      <td>4</td>\n",
       "      <td>hello</td>\n",
       "    </tr>\n",
       "    <tr>\n",
       "      <th>1</th>\n",
       "      <td>5</td>\n",
       "      <td>6</td>\n",
       "      <td>7</td>\n",
       "      <td>8</td>\n",
       "      <td>world</td>\n",
       "    </tr>\n",
       "    <tr>\n",
       "      <th>2</th>\n",
       "      <td>9</td>\n",
       "      <td>10</td>\n",
       "      <td>11</td>\n",
       "      <td>12</td>\n",
       "      <td>foo</td>\n",
       "    </tr>\n",
       "  </tbody>\n",
       "</table>\n",
       "</div>"
      ],
      "text/plain": [
       "   a   b   c   d message\n",
       "0  1   2   3   4   hello\n",
       "1  5   6   7   8   world\n",
       "2  9  10  11  12     foo"
      ]
     },
     "execution_count": 6,
     "metadata": {},
     "output_type": "execute_result"
    }
   ],
   "source": [
    "# !cat examples/ex4.csv\n",
    "pd.read_csv(\"examples/ex4.csv\", skiprows=[0, 2, 3])"
   ]
  },
  {
   "cell_type": "markdown",
   "metadata": {},
   "source": [
    "    6) **누락된 값이 있는 파일 : 비어 있는 문자열, NA, NULL을 NaN으로 출력** \n",
    "        * na_values 인수 - NA 값으로 처리할 값들의 목록"
   ]
  },
  {
   "cell_type": "code",
   "execution_count": 8,
   "metadata": {},
   "outputs": [
    {
     "name": "stdout",
     "output_type": "stream",
     "text": [
      "  something  a   b     c   d message\n",
      "0       one  1   2   3.0   4     NaN\n",
      "1       NaN  5   6   NaN   8   world\n",
      "2     three  9  10  11.0  12     NaN\n"
     ]
    },
    {
     "data": {
      "text/html": [
       "<div>\n",
       "<style scoped>\n",
       "    .dataframe tbody tr th:only-of-type {\n",
       "        vertical-align: middle;\n",
       "    }\n",
       "\n",
       "    .dataframe tbody tr th {\n",
       "        vertical-align: top;\n",
       "    }\n",
       "\n",
       "    .dataframe thead th {\n",
       "        text-align: right;\n",
       "    }\n",
       "</style>\n",
       "<table border=\"1\" class=\"dataframe\">\n",
       "  <thead>\n",
       "    <tr style=\"text-align: right;\">\n",
       "      <th></th>\n",
       "      <th>something</th>\n",
       "      <th>a</th>\n",
       "      <th>b</th>\n",
       "      <th>c</th>\n",
       "      <th>d</th>\n",
       "      <th>message</th>\n",
       "    </tr>\n",
       "  </thead>\n",
       "  <tbody>\n",
       "    <tr>\n",
       "      <th>0</th>\n",
       "      <td>False</td>\n",
       "      <td>False</td>\n",
       "      <td>False</td>\n",
       "      <td>False</td>\n",
       "      <td>False</td>\n",
       "      <td>True</td>\n",
       "    </tr>\n",
       "    <tr>\n",
       "      <th>1</th>\n",
       "      <td>True</td>\n",
       "      <td>False</td>\n",
       "      <td>False</td>\n",
       "      <td>True</td>\n",
       "      <td>False</td>\n",
       "      <td>False</td>\n",
       "    </tr>\n",
       "    <tr>\n",
       "      <th>2</th>\n",
       "      <td>False</td>\n",
       "      <td>False</td>\n",
       "      <td>False</td>\n",
       "      <td>False</td>\n",
       "      <td>False</td>\n",
       "      <td>True</td>\n",
       "    </tr>\n",
       "  </tbody>\n",
       "</table>\n",
       "</div>"
      ],
      "text/plain": [
       "   something      a      b      c      d  message\n",
       "0      False  False  False  False  False     True\n",
       "1       True  False  False   True  False    False\n",
       "2      False  False  False  False  False     True"
      ]
     },
     "execution_count": 8,
     "metadata": {},
     "output_type": "execute_result"
    }
   ],
   "source": [
    "# !cat examples/ex5.csv\n",
    "\n",
    "result = pd.read_csv(\"examples/ex5.csv\")\n",
    "result\n",
    "\n",
    "#1) 누락된 값을 확인 : isna() 함수 이용 or \n",
    "# isnull(): 결측지를 True, \n",
    "# isnot(), notNa(): 결측치가 아닌 것을 True // 결측치 = null값을 의미함\n",
    "\n",
    "pd.isna(result)\n",
    "\n",
    "# 2) na_values -> 컬럼별 문자열 집합을 받아서 누락된 값 처리\n",
    "sentinels = {\"message\": [\"foo\", \"NA\"], \"something\": [\"two\"]}\n",
    "result = pd.read_csv(\"examples/ex5.csv\", na_values=sentinels)\n",
    "print(result)\n",
    "result.isna()"
   ]
  },
  {
   "cell_type": "markdown",
   "metadata": {},
   "source": [
    "    7) 텍스트 파일 조금씩 \n",
    "        * nrows 인수 - 파일의 첫 일부만 읽어올 때 처음 몇 줄을 읽을 것인지 지정 \n",
    "        * chunksize 인수 - TextParser 객체에서 사용할 한 번에 읽을 파일의 크기"
   ]
  },
  {
   "cell_type": "code",
   "execution_count": 9,
   "metadata": {},
   "outputs": [
    {
     "data": {
      "text/html": [
       "<div>\n",
       "<style scoped>\n",
       "    .dataframe tbody tr th:only-of-type {\n",
       "        vertical-align: middle;\n",
       "    }\n",
       "\n",
       "    .dataframe tbody tr th {\n",
       "        vertical-align: top;\n",
       "    }\n",
       "\n",
       "    .dataframe thead th {\n",
       "        text-align: right;\n",
       "    }\n",
       "</style>\n",
       "<table border=\"1\" class=\"dataframe\">\n",
       "  <thead>\n",
       "    <tr style=\"text-align: right;\">\n",
       "      <th></th>\n",
       "      <th>one</th>\n",
       "      <th>two</th>\n",
       "      <th>three</th>\n",
       "      <th>four</th>\n",
       "      <th>key</th>\n",
       "    </tr>\n",
       "  </thead>\n",
       "  <tbody>\n",
       "    <tr>\n",
       "      <th>0</th>\n",
       "      <td>0.467976</td>\n",
       "      <td>-0.038649</td>\n",
       "      <td>-0.295344</td>\n",
       "      <td>-1.824726</td>\n",
       "      <td>L</td>\n",
       "    </tr>\n",
       "    <tr>\n",
       "      <th>1</th>\n",
       "      <td>-0.358893</td>\n",
       "      <td>1.404453</td>\n",
       "      <td>0.704965</td>\n",
       "      <td>-0.200638</td>\n",
       "      <td>B</td>\n",
       "    </tr>\n",
       "    <tr>\n",
       "      <th>2</th>\n",
       "      <td>-0.501840</td>\n",
       "      <td>0.659254</td>\n",
       "      <td>-0.421691</td>\n",
       "      <td>-0.057688</td>\n",
       "      <td>G</td>\n",
       "    </tr>\n",
       "    <tr>\n",
       "      <th>3</th>\n",
       "      <td>0.204886</td>\n",
       "      <td>1.074134</td>\n",
       "      <td>1.388361</td>\n",
       "      <td>-0.982404</td>\n",
       "      <td>R</td>\n",
       "    </tr>\n",
       "    <tr>\n",
       "      <th>4</th>\n",
       "      <td>0.354628</td>\n",
       "      <td>-0.133116</td>\n",
       "      <td>0.283763</td>\n",
       "      <td>-0.837063</td>\n",
       "      <td>Q</td>\n",
       "    </tr>\n",
       "  </tbody>\n",
       "</table>\n",
       "</div>"
      ],
      "text/plain": [
       "        one       two     three      four key\n",
       "0  0.467976 -0.038649 -0.295344 -1.824726   L\n",
       "1 -0.358893  1.404453  0.704965 -0.200638   B\n",
       "2 -0.501840  0.659254 -0.421691 -0.057688   G\n",
       "3  0.204886  1.074134  1.388361 -0.982404   R\n",
       "4  0.354628 -0.133116  0.283763 -0.837063   Q"
      ]
     },
     "execution_count": 9,
     "metadata": {},
     "output_type": "execute_result"
    }
   ],
   "source": [
    "# result = pd.read_csv(\"examples/ex6.csv\") # 판다스 출력 설정\n",
    "# result\n",
    "result = pd.read_csv(\"examples/ex6.csv\", nrows=5) # 처음 몇 행만 읽기\n",
    "result"
   ]
  },
  {
   "cell_type": "markdown",
   "metadata": {},
   "source": [
    "### [예제]  ex6.csv 파일의 \"key\" 컬럼의 값들에 대한 빈도수을 계산하기"
   ]
  },
  {
   "cell_type": "code",
   "execution_count": 10,
   "metadata": {
    "scrolled": true
   },
   "outputs": [
    {
     "data": {
      "text/plain": [
       "key\n",
       "E    368.0\n",
       "X    364.0\n",
       "L    346.0\n",
       "O    343.0\n",
       "Q    340.0\n",
       "M    338.0\n",
       "J    337.0\n",
       "F    335.0\n",
       "K    334.0\n",
       "H    330.0\n",
       "dtype: float64"
      ]
     },
     "execution_count": 10,
     "metadata": {},
     "output_type": "execute_result"
    }
   ],
   "source": [
    "#!cat examples/ex6.csv\n",
    "chunker = pd.read_csv(\"examples/ex6.csv\", chunksize=1000)\n",
    "# 파일을 읽은 후 chunksize 매개변수를 사용해 데이터를 1000개씩 나누어 처리함\n",
    "chunker\n",
    "tot = pd.Series([], dtype='int64')\n",
    "\n",
    "# \"key\" 컬럼의 값들에 대한 누적의 합\n",
    "for piece in chunker:# 10번 반복 수행\n",
    "    # print(piece[\"key\"].value_counts())\n",
    "    tot = tot.add(piece[\"key\"].value_counts(), fill_value=0)\n",
    "\n",
    "tot\n",
    "#값들을 정렬\n",
    "tot = tot.sort_values(ascending=False)\n",
    "tot\n",
    "tot[:10]"
   ]
  },
  {
   "cell_type": "code",
   "execution_count": 11,
   "metadata": {},
   "outputs": [
    {
     "data": {
      "text/plain": [
       "0    3.0\n",
       "1    6.0\n",
       "2    9.0\n",
       "dtype: float64"
      ]
     },
     "execution_count": 11,
     "metadata": {},
     "output_type": "execute_result"
    }
   ],
   "source": [
    "# 시리즈 간 덧셈 연산\n",
    "from pandas import Series\n",
    "tot = Series([], dtype= 'int64')\n",
    "tot1 = Series([1,2,3])\n",
    "#tot + tot1\n",
    "# tot.add(tot1)\n",
    "# 누적의 합\n",
    "for i in range(3):\n",
    "    tot = tot.add(tot1, fill_value = 0)\n",
    "tot"
   ]
  },
  {
   "cell_type": "markdown",
   "metadata": {},
   "source": [
    "## 1.2. csv 텍스트 파일 저장하기 (매우 중요!!)\n",
    "* 판다스에서 CSV 파일을 저장하기: df.to_csv(path, encoding = 'utf-8') 함수를 사용\n",
    "    * path 인수 : 파일시스템에서의 위치, URL, 파일객체를 나타내는 문자열\n",
    "    * encoding 인수 - 유니코드 인코딩 종류을 지정\n"
   ]
  },
  {
   "cell_type": "code",
   "execution_count": 13,
   "metadata": {},
   "outputs": [
    {
     "data": {
      "text/html": [
       "<div>\n",
       "<style scoped>\n",
       "    .dataframe tbody tr th:only-of-type {\n",
       "        vertical-align: middle;\n",
       "    }\n",
       "\n",
       "    .dataframe tbody tr th {\n",
       "        vertical-align: top;\n",
       "    }\n",
       "\n",
       "    .dataframe thead th {\n",
       "        text-align: right;\n",
       "    }\n",
       "</style>\n",
       "<table border=\"1\" class=\"dataframe\">\n",
       "  <thead>\n",
       "    <tr style=\"text-align: right;\">\n",
       "      <th></th>\n",
       "      <th>a</th>\n",
       "      <th>b</th>\n",
       "      <th>d</th>\n",
       "    </tr>\n",
       "  </thead>\n",
       "  <tbody>\n",
       "    <tr>\n",
       "      <th>0</th>\n",
       "      <td>1</td>\n",
       "      <td>2</td>\n",
       "      <td>4</td>\n",
       "    </tr>\n",
       "    <tr>\n",
       "      <th>1</th>\n",
       "      <td>5</td>\n",
       "      <td>6</td>\n",
       "      <td>8</td>\n",
       "    </tr>\n",
       "    <tr>\n",
       "      <th>2</th>\n",
       "      <td>9</td>\n",
       "      <td>10</td>\n",
       "      <td>12</td>\n",
       "    </tr>\n",
       "  </tbody>\n",
       "</table>\n",
       "</div>"
      ],
      "text/plain": [
       "   a   b   d\n",
       "0  1   2   4\n",
       "1  5   6   8\n",
       "2  9  10  12"
      ]
     },
     "execution_count": 13,
     "metadata": {},
     "output_type": "execute_result"
    }
   ],
   "source": [
    "# csv 파일로 저장\n",
    "# 1. 데이터프레임 준비\n",
    "data = pd.read_csv(\"examples/ex5.csv\") # 원본에 대한 데이터프레임\n",
    "data\n",
    "data1 = data[['a','b','d']] # 컬럼 인덱싱 이용 데이터 추출\n",
    "data1\n",
    "# 2. 데이터프레임을 파일로 저장\n",
    "# data1.to_csv(\"examples/out.csv\")"
   ]
  },
  {
   "cell_type": "code",
   "execution_count": 14,
   "metadata": {},
   "outputs": [],
   "source": [
    "data.to_csv(\"examples/out.csv\", sep=\"|\") # 구분자 사용\n",
    "data.to_csv(\"examples/out.csv\", na_rep = \"NULL\") #누락된 값을 원하는 값으로 지정\n",
    "data.to_csv(\"examples/out.csv\", index=False, header=False)\n",
    "data.to_csv(\"examples/out.csv\", index=False, columns=[\"a\", \"b\", \"c\"])\n"
   ]
  },
  {
   "cell_type": "markdown",
   "metadata": {},
   "source": [
    "# 2. JSON  데이터\n",
    "* JSON(JavaScript Object Notation)은 텍스트 데이터를 저장하고 전송하기 위한 일반적인 형식\n",
    "* 주로 웹에서 데이터를 전송하거나 저장하는 데 사용\n",
    "* JSON 파일은 일반적으로 텍스트 형식으로 작성되며, 사람과 기계 모두 이해하기 쉽다.\n",
    "* JSON 파일은 키-값 쌍의 모음으로 구성\n",
    "  * 키-값 쌍은 객체(object)라고도 하며, 중괄호 {} 로 묶는다.\n",
    "  * 배열(array)은 대괄호 [] 안에 값의 목록을 나열하여 정의."
   ]
  },
  {
   "cell_type": "markdown",
   "metadata": {},
   "source": [
    "## 2.1 JSON 데이터 읽기/저장\n",
    "    * pandas의 to_json() -> 데이터프레임을 JSON 파일로 저장\n",
    "    * read_json() -> JSON 파일에서 데이터프레임을 읽어오기"
   ]
  },
  {
   "cell_type": "markdown",
   "metadata": {},
   "source": [
    "### [예제]  pandas의 to_json() 및 read_json() 메서드를 사용하여 데이터프레임을 JSON 파일로 저장하고 읽기"
   ]
  },
  {
   "cell_type": "code",
   "execution_count": 15,
   "metadata": {},
   "outputs": [
    {
     "name": "stdout",
     "output_type": "stream",
     "text": [
      "Original DataFrame:\n",
      "    name  age         city\n",
      "0   John   30     New York\n",
      "1  Alice   25  Los Angeles\n",
      "2    Bob   35      Chicago\n",
      "\n",
      "DataFrame from JSON file:\n",
      "    name  age         city\n",
      "0   John   30     New York\n",
      "1  Alice   25  Los Angeles\n",
      "2    Bob   35      Chicago\n"
     ]
    }
   ],
   "source": [
    "import pandas as pd\n",
    "\n",
    "# 1. JSON 파일로 저장할 데이터프레임 생성\n",
    "data = {\n",
    "    \"name\": [\"John\", \"Alice\", \"Bob\"],\n",
    "    \"age\": [30, 25, 35],\n",
    "    \"city\": [\"New York\", \"Los Angeles\", \"Chicago\"]\n",
    "}\n",
    "df = pd.DataFrame(data)\n",
    "\n",
    "# 2. 데이터프레임을 JSON 파일로 저장\n",
    "df.to_json(\"examples/data.json\")\n",
    "\n",
    "# 3. JSON 파일을 읽어와 데이터프레임으로 변환\n",
    "df_read = pd.read_json(\"examples/data.json\")\n",
    "\n",
    "print(\"Original DataFrame:\")\n",
    "print(df)\n",
    "\n",
    "print(\"\\nDataFrame from JSON file:\")\n",
    "print(df_read)"
   ]
  },
  {
   "cell_type": "markdown",
   "metadata": {},
   "source": [
    "# 3. HTML 데이터\n",
    "## 3.1 웹 스크래핑 - read_html()"
   ]
  },
  {
   "attachments": {},
   "cell_type": "markdown",
   "metadata": {},
   "source": [
    "* read_html() - html 문서 내 테이블 데이터 읽어 테이블 구조의 모든 데이터를 데이터프레임으로 저장해서 반환\n",
    "    * https://www.fdic.gov/resources/resolutions/bank-failures/failed-bank-list/\n"
   ]
  },
  {
   "cell_type": "markdown",
   "metadata": {},
   "source": [
    "### [예제] 미국 예금 보험 공사에서 부도 은행을 보여주는 HTML 문서의 테이블 데이터 읽어오기\n",
    "    * 연도별로 부도 은행의 개수을 계산하시오. "
   ]
  },
  {
   "cell_type": "code",
   "execution_count": 16,
   "metadata": {
    "scrolled": true
   },
   "outputs": [
    {
     "name": "stdout",
     "output_type": "stream",
     "text": [
      "<class 'pandas.core.frame.DataFrame'>\n"
     ]
    }
   ],
   "source": [
    "import pandas as pd\n",
    "#tables = pd.read_html(\"examples/fdic_failed_bank_list.html\") \n",
    "\n",
    "#1. 정적웹페이지 데이터 읽어오기\n",
    "tables = pd.read_html(\"https://www.fdic.gov/resources/resolutions/bank-failures/failed-bank-list/\")\n",
    "# type = list\n",
    "\n",
    "type(tables)\n",
    "len(tables)  # 리스트에 포함된 테이블의 개수 ... 1개\n",
    "failures = tables[0] # 인덱싱 - 첫 번째 테이블을 가져와 `failures`변수에 저장한 다음\n",
    "failures\n",
    "print(type(failures))\n",
    "# 타입 = DataFrame  -  read_html() => `pandas` 라이브러리의 최상위 네임스페이스\n",
    "# failures.head()"
   ]
  },
  {
   "cell_type": "code",
   "execution_count": 17,
   "metadata": {
    "scrolled": true
   },
   "outputs": [
    {
     "data": {
      "text/html": [
       "<div>\n",
       "<style scoped>\n",
       "    .dataframe tbody tr th:only-of-type {\n",
       "        vertical-align: middle;\n",
       "    }\n",
       "\n",
       "    .dataframe tbody tr th {\n",
       "        vertical-align: top;\n",
       "    }\n",
       "\n",
       "    .dataframe thead th {\n",
       "        text-align: right;\n",
       "    }\n",
       "</style>\n",
       "<table border=\"1\" class=\"dataframe\">\n",
       "  <thead>\n",
       "    <tr style=\"text-align: right;\">\n",
       "      <th></th>\n",
       "      <th>BankNameBank</th>\n",
       "      <th>CityCity</th>\n",
       "      <th>StateSt</th>\n",
       "      <th>CertCert</th>\n",
       "      <th>AcquiringInstitutionAI</th>\n",
       "      <th>ClosingDate</th>\n",
       "      <th>FundFund</th>\n",
       "    </tr>\n",
       "  </thead>\n",
       "  <tbody>\n",
       "    <tr>\n",
       "      <th>0</th>\n",
       "      <td>Citizens Bank</td>\n",
       "      <td>Sac City</td>\n",
       "      <td>IA</td>\n",
       "      <td>8758</td>\n",
       "      <td>Iowa Trust &amp; Savings Bank</td>\n",
       "      <td>November 3, 2023</td>\n",
       "      <td>10545</td>\n",
       "    </tr>\n",
       "    <tr>\n",
       "      <th>1</th>\n",
       "      <td>Heartland Tri-State Bank</td>\n",
       "      <td>Elkhart</td>\n",
       "      <td>KS</td>\n",
       "      <td>25851</td>\n",
       "      <td>Dream First Bank, N.A.</td>\n",
       "      <td>July 28, 2023</td>\n",
       "      <td>10544</td>\n",
       "    </tr>\n",
       "    <tr>\n",
       "      <th>2</th>\n",
       "      <td>First Republic Bank</td>\n",
       "      <td>San Francisco</td>\n",
       "      <td>CA</td>\n",
       "      <td>59017</td>\n",
       "      <td>JPMorgan Chase Bank, N.A.</td>\n",
       "      <td>May 1, 2023</td>\n",
       "      <td>10543</td>\n",
       "    </tr>\n",
       "  </tbody>\n",
       "</table>\n",
       "</div>"
      ],
      "text/plain": [
       "               BankNameBank       CityCity StateSt  CertCert  \\\n",
       "0             Citizens Bank       Sac City      IA      8758   \n",
       "1  Heartland Tri-State Bank        Elkhart      KS     25851   \n",
       "2       First Republic Bank  San Francisco      CA     59017   \n",
       "\n",
       "      AcquiringInstitutionAI       ClosingDate  FundFund  \n",
       "0  Iowa Trust & Savings Bank  November 3, 2023     10545  \n",
       "1     Dream First Bank, N.A.     July 28, 2023     10544  \n",
       "2  JPMorgan Chase Bank, N.A.       May 1, 2023     10543  "
      ]
     },
     "execution_count": 17,
     "metadata": {},
     "output_type": "execute_result"
    }
   ],
   "source": [
    "# 2. 연도별로 부도 은행의 개수 : DataFrame 가공\n",
    "# 1) 컬럼명 확인 /수정하기 /확인\n",
    "failures.columns\n",
    "failures.columns = ['BankNameBank', 'CityCity', 'StateSt', 'CertCert', 'AcquiringInstitutionAI', \\\n",
    "                    'ClosingDate', 'FundFund']\n",
    "failures.head(3)"
   ]
  },
  {
   "cell_type": "code",
   "execution_count": 18,
   "metadata": {
    "scrolled": true
   },
   "outputs": [
    {
     "data": {
      "text/plain": [
       "ClosingDate\n",
       "2010    157\n",
       "2009    140\n",
       "2011     92\n",
       "2012     51\n",
       "2008     25\n",
       "       ... \n",
       "2019      4\n",
       "2001      4\n",
       "2007      3\n",
       "2003      3\n",
       "2000      2\n",
       "Name: count, Length: 19, dtype: int64"
      ]
     },
     "execution_count": 18,
     "metadata": {},
     "output_type": "execute_result"
    }
   ],
   "source": [
    "# 2) 데이터 변환 : 문자열 object -> datetime\n",
    "failures[\"ClosingDate\"] # 컬럼 인덱싱을 이용해서 시리즈로 추출\n",
    "close_timestamps = pd.to_datetime(failures[\"ClosingDate\"]) \n",
    "close_timestamps\n",
    "\n",
    "# 3) 년도별 데이터 개수 추출\n",
    "close_timestamps.dt.year\n",
    "close_timestamps.dt.year.value_counts()"
   ]
  },
  {
   "cell_type": "markdown",
   "metadata": {},
   "source": [
    "### [문제] : 네이버 주식 데이터을 스크래핑하여 csv파일로 저장하기 - read_html()\n",
    "* https://www.naver.com/ -> 증권 -> 국내증시 -> 시가총액\n",
    "    * https://finance.naver.com/sise/sise_market_sum.naver"
   ]
  },
  {
   "cell_type": "code",
   "execution_count": null,
   "metadata": {},
   "outputs": [],
   "source": [
    "!pip install html5lib  lxml"
   ]
  },
  {
   "cell_type": "code",
   "execution_count": 19,
   "metadata": {
    "scrolled": true
   },
   "outputs": [
    {
     "name": "stderr",
     "output_type": "stream",
     "text": [
      "c:\\users\\user\\appdata\\local\\programs\\python\\python39\\lib\\site-packages\\bs4\\__init__.py:228: UserWarning: You provided Unicode markup but also provided a value for from_encoding. Your from_encoding will be ignored.\n",
      "  warnings.warn(\"You provided Unicode markup but also provided a value for from_encoding. Your from_encoding will be ignored.\")\n"
     ]
    },
    {
     "name": "stdout",
     "output_type": "stream",
     "text": [
      "\n",
      "      0      1          2        3          4       5\n",
      "0  거래량   매수호가   거래대금(백만)  시가총액(억)    영업이익(억)  PER(배)\n",
      "1   시가   매도호가      전일거래량  자산총계(억)    영업이익증가율  ROE(%)\n",
      "2   고가  매수총잔량      외국인비율  부채총계(억)   당기순이익(억)  ROA(%)\n",
      "3   저가  매도총잔량  상장주식수(천주)   매출액(억)   주당순이익(원)  PBR(배)\n",
      "4  NaN    NaN        NaN   매출액증가율  보통주배당금(원)  유보율(%)\n",
      "\n",
      "        N       종목명       현재가     전일비     등락률     액면가       시가총액      상장주식수  \\\n",
      "0    NaN       NaN       NaN     NaN     NaN     NaN        NaN        NaN   \n",
      "1    1.0      삼성전자   84100.0   500.0  +0.60%   100.0  5020587.0  5969783.0   \n",
      "2    2.0    SK하이닉스  188400.0  5500.0  +3.01%  5000.0  1371556.0   728002.0   \n",
      "3    3.0  LG에너지솔루션  380000.0  6000.0  +1.60%   500.0   889200.0   234000.0   \n",
      "4    4.0     삼성전자우   69200.0   900.0  +1.32%   100.0   569438.0   822887.0   \n",
      "..   ...       ...       ...     ...     ...     ...        ...        ...   \n",
      "76  49.0  HD한국조선해양  116300.0  2300.0  -1.94%  5000.0    82309.0    70773.0   \n",
      "77  50.0      한화오션   26150.0  1100.0  -4.04%  5000.0    80113.0   306359.0   \n",
      "78   NaN       NaN       NaN     NaN     NaN     NaN        NaN        NaN   \n",
      "79   NaN       NaN       NaN     NaN     NaN     NaN        NaN        NaN   \n",
      "80   NaN       NaN       NaN     NaN     NaN     NaN        NaN        NaN   \n",
      "\n",
      "    외국인비율         거래량    PER    ROE  토론실  \n",
      "0     NaN         NaN    NaN    NaN  NaN  \n",
      "1   55.81  25337989.0  39.47   4.15  NaN  \n",
      "2   54.74   4015600.0 -15.05 -15.61  NaN  \n",
      "3    4.90    339529.0  71.87   6.36  NaN  \n",
      "4   75.55   1237491.0  32.47    NaN  NaN  \n",
      "..    ...         ...    ...    ...  ...  \n",
      "76  26.80    273063.0  37.12   2.26  NaN  \n",
      "77  16.82   1103434.0  34.54   6.33  NaN  \n",
      "78    NaN         NaN    NaN    NaN  NaN  \n",
      "79    NaN         NaN    NaN    NaN  NaN  \n",
      "80    NaN         NaN    NaN    NaN  NaN  \n",
      "\n",
      "[81 rows x 13 columns]\n",
      "\n",
      "    0   1   2   3   4   5   6   7   8   9   10  11\n",
      "0   1   2   3   4   5   6   7   8   9  10  다음  맨뒤\n"
     ]
    }
   ],
   "source": [
    "import pandas as pd\n",
    "# 1) 웹페이지 읽어오기 \n",
    "# 'euc-kr' 또는 'cp949'로 인코딩 설정하여 페이지 읽기 시도\n",
    "df_list = pd.read_html(\"https://finance.naver.com/sise/sise_market_sum.naver\",encoding='cp949')\n",
    "df_list\n",
    "type(df_list)\n",
    "df_list[1] # 인덱싱\n",
    "# 데이터프레임 확인\n",
    "for df in df_list:\n",
    "    print(\"\\n\",df)\n"
   ]
  },
  {
   "cell_type": "code",
   "execution_count": 20,
   "metadata": {},
   "outputs": [],
   "source": [
    "# 2) 데이터프레임 가공 : csv파일로 저장하기\n",
    "df = df_list[1]\n",
    "type(df)\n",
    "\n",
    "df.head(10)\n",
    "\n",
    "# (1) 데이터프레임 탐색 :  종목명 컬럼명으로 인덱싱 - NaN 처리\n",
    "df['종목명']\n",
    "\n",
    "# (2) 조건색인\n",
    "cond = df['종목명'].notnull() #불리언 시리즈\n",
    "data = df[cond] # 불리언색인을 이용하여 필터링\n",
    "data\n",
    "data.head(10)\n",
    "\n",
    "#3) 데이터프레임 저장\n",
    "data.to_csv(\"examples/Naver_kospi.csv\")"
   ]
  },
  {
   "cell_type": "markdown",
   "metadata": {},
   "source": [
    "## 3.2 웹 스크래핑 - requests"
   ]
  },
  {
   "cell_type": "markdown",
   "metadata": {},
   "source": [
    "* 웹 페이지 정보 가져오기 - requests 패키지 이용\n",
    "  * requests.get()\n",
    "  * requests.get().status_code\n",
    "  * requests.get().text\n"
   ]
  },
  {
   "cell_type": "markdown",
   "metadata": {},
   "source": [
    "### [예제] 패키지 requests을 활용하여 웹페이지 json 데이터을 데이터프레임으로 변환하기"
   ]
  },
  {
   "cell_type": "code",
   "execution_count": null,
   "metadata": {},
   "outputs": [],
   "source": [
    "!pip install requests"
   ]
  },
  {
   "cell_type": "code",
   "execution_count": null,
   "metadata": {},
   "outputs": [],
   "source": [
    "import requests\n",
    "import pandas as pd\n",
    "#1. 타겟 웹사이트 접속\n",
    "url = \"https://api.github.com/repos/pandas-dev/pandas/issues\"\n",
    "resp = requests.get(url)\n",
    "resp.status_code\n",
    "# 2. 웹페이지 콘텐츠 읽어오기\n",
    "resp.text # 문자열로 반환\n",
    "#pd.read_html(url)\n",
    "# 3. json 내용을 딕셔너리로 변환\n",
    "data = resp.json() # json의 내용을 딕셔너리 형태로 변환한 객체을 반환\n",
    "print(data[0].keys()) # 키 정보 출력\n",
    "# data[0]['number']\n",
    "\n",
    "#4. 딕셔너리를 DataFrame으로 생성하기\n",
    "issues = pd.DataFrame(data, columns=[\"number\", \"title\",\n",
    "                                      \"labels\", \"state\"])\n",
    "issues.head()\n"
   ]
  },
  {
   "cell_type": "markdown",
   "metadata": {},
   "source": [
    "### [문제] 네이버 블로그의 키워드 관련 검색 결과 텍스트 데이터 가져오기 - requests 모듈 사용시 한계점"
   ]
  },
  {
   "cell_type": "code",
   "execution_count": null,
   "metadata": {
    "scrolled": true
   },
   "outputs": [],
   "source": [
    "import requests\n",
    "url = \"https://section.blog.naver.com/Search/Post.naver?pageNo=1&rangeType=ALL&orderBy=sim&keyword=%ED%8C%8C%EC%9D%B4%EC%8D%AC\"\n",
    "\n",
    "# params = {\n",
    "#     'pageNo' : 1,\n",
    "#     'rangeType' : 'ALL',\n",
    "#     'orderBy' : 'sim',\n",
    "#     'keyword' : '파이썬'\n",
    "# }\n",
    "\n",
    "# response = requests.get('https://section.blog.naver.com/Search/Post.naver?', params=params)\n",
    "response = requests.get(url)\n",
    "print(response.status_code) # HTTP GET 방식으로 URL 파라미터 값 전달\n",
    "print(response.url) # status_code 는 응답코드\n",
    "print(response.text) # text에는 HTML 코드"
   ]
  },
  {
   "cell_type": "markdown",
   "metadata": {},
   "source": [
    "## 3.3 웹 스크래핑 - beautifulsoup\n",
    "* 웹 페이지 정보 추출하기 - beautifulsoup 사용법 \n",
    "  * soup.select_one()\n",
    "  * soup.select()\n",
    "  * get_text()\n",
    "  * get_attribute()\n",
    "* 개발자 도구 사용"
   ]
  },
  {
   "cell_type": "markdown",
   "metadata": {},
   "source": [
    "### [문제] 네이버 지식iN의 검색어 관련 검색 결과 제목 가져오기"
   ]
  },
  {
   "cell_type": "code",
   "execution_count": 4,
   "metadata": {},
   "outputs": [
    {
     "name": "stdout",
     "output_type": "stream",
     "text": [
      "파이썬이 미래에 도움이 될까요?\n",
      "['https://kin.naver.com/qna/detail.naver?d1id=3&dirId=31302&docId=466334742&qb=7YyM7J207I2s&enc=utf8§ion=kin&rank=1&search_sort=0&spq=0']\n",
      "\n",
      "파이썬이 미래에 도움이 될까요?\n",
      "중1 파이썬 독학\n",
      "파이썬 사용\n",
      "맥북 파이썬 idel\n",
      "파이썬 질문\n",
      "파이썬과 자바\n",
      "파이썬 질문...\n",
      "파이썬 배우기\n",
      "파이썬강좌 독학할때 뭐보나요??\n",
      "파이썬 id함수 질문이요\n"
     ]
    }
   ],
   "source": [
    "import requests\n",
    "from bs4 import BeautifulSoup\n",
    "\n",
    "# 타겟 웹페이지 URL\n",
    "url = 'https://kin.naver.com/search/list.naver?query=%ED%8C%8C%EC%9D%B4%EC%8D%AC'\n",
    "\n",
    "# 웹페이지 로딩\n",
    "response = requests.get(url)\n",
    "\n",
    "if response.status_code == 200:\n",
    "    html = response.text\n",
    "    # html -> beautifulsoup 객체로 변환\n",
    "    soup = BeautifulSoup(html, 'html.parser')\n",
    "\n",
    "    # 제목 한개 선택하여 텍스트 가져오기\n",
    "    title = soup.select_one('#s_content > div.section > ul > li:nth-child(1) > dl > dt > a')\n",
    "    print(title.get_text())\n",
    "    print(title.get_attribute_list(\"href\"))\n",
    "\n",
    "    print()\n",
    "\n",
    "    # 제목 여러 개 선택하여 텍스트 리스트 가져오기\n",
    "    titles = soup.select('#s_content > div.section > ul > li:nth-child(n) > dl > dt > a')\n",
    "    for title in titles:\n",
    "        print(title.get_text())\n",
    "else : \n",
    "    print(response.status_code)\n",
    "\n"
   ]
  },
  {
   "cell_type": "markdown",
   "metadata": {},
   "source": [
    "## 3.4 웹 스크래핑 - Selenium을 이용하여 크롤러( 6주차)\n",
    "*  https://selenium-python.readthedocs.io/\n",
    "* selenium 사용법\n",
    "  1. 시스템의 OS 및 Chrome 브라우저의 버전 확인\n",
    "  2. Chrome 드라이버 다운로드 및 설치\n",
    "  3. 크롬 드라이버을 프로젝트 폴더에 저장 - 크롬 드라이버의 설치 경로\n",
    "     * from selenium import webdriver\n",
    "     * driver = webdriver.Chrome()\n",
    "* 동적으로 웹 페이지 정보 추출하기\n",
    "     * driver.get(\"웹주소\") \n",
    "  "
   ]
  },
  {
   "cell_type": "markdown",
   "metadata": {},
   "source": [
    "### [예제]Selenium을 이용하여 자동으로 타겟 웹 사이트 실행하기\n",
    "* 타겟 사이트 : https://www.google.com"
   ]
  },
  {
   "cell_type": "code",
   "execution_count": null,
   "metadata": {},
   "outputs": [],
   "source": [
    "!pip install selenium"
   ]
  },
  {
   "cell_type": "code",
   "execution_count": null,
   "metadata": {},
   "outputs": [],
   "source": [
    "from selenium import webdriver\n",
    "# 1. Chrome 브라우저 실행\n",
    "driver = webdriver.Chrome() # 크롬 드라이버 실행파일의 위치 - 작업디렉터리\n",
    "# 2. 타겟 웹페이지 로딩\n",
    "url = \"https://www.google.com\"\n",
    "driver.get(url)\n",
    "# 3. 타겟 브라우저 종료\n",
    "driver.quit()"
   ]
  },
  {
   "cell_type": "markdown",
   "metadata": {},
   "source": [
    "### [문제] Selenium을 활용하여 타겟 웹사이트 자동으로 열기/ 쿼리로 검색하기/ 검색 결과의 제목과 url을 자동으로 추출하여 저장하는 web crawler 만들기\n",
    "    * 사전 준비 작업 : 타겟 웹사이트을 구글 개발도구을 이용하여 탐색하기\n",
    "    * 타겟 사이트: https://www.google.com\n",
    "    * driver.find_element()\n",
    "    * send_keys()"
   ]
  },
  {
   "cell_type": "code",
   "execution_count": 2,
   "metadata": {},
   "outputs": [
    {
     "name": "stdout",
     "output_type": "stream",
     "text": [
      "제목: OpenAI\n",
      "URL: https://openai.com/\n",
      "제목: OpenAI\n",
      "URL: https://openai.com/\n",
      "제목: OpenAI\n",
      "URL: https://openai.com/\n",
      "제목: OpenAI\n",
      "URL: https://namu.wiki/w/OpenAI\n",
      "제목: OpenAI\n",
      "URL: https://en.wikipedia.org/wiki/OpenAI\n",
      "제목: 오픈AI - 위키백과, 우리 모두의 백과사전\n",
      "URL: https://ko.wikipedia.org/wiki/%EC%98%A4%ED%94%88AI\n",
      "제목: OpenAI\n",
      "URL: https://twitter.com/OpenAI\n",
      "제목: OpenAI\n",
      "URL: https://www.linkedin.com/company/openai\n",
      "제목: 설명\n",
      "URL: https://www.google.com/search?q=OpenAI&sca_esv=835ba0ee2498b9ce&source=hp&ei=SpkXZr3KEtWNvr0P7t-roAU&iflsig=ANes7DEAAAAAZhenWgrDXFtWs_vVaXOU9AjPSF2oUIFM&udm=&ved=0ahUKEwi9l5i22bmFAxXVhq8BHe7vClQQ4dUDCA8&uact=5&oq=OpenAI&gs_lp=Egdnd3Mtd2l6IgZPcGVuQUlIWlAAWB5wAHgAkAEAmAEAoAEAqgEAuAEDyAEA-AEBmAIAoAIAmAMAkgcAoAcA&sclient=gws-wiz#\n"
     ]
    }
   ],
   "source": [
    "from selenium import webdriver\n",
    "from selenium.webdriver.common.by import By\n",
    "from selenium.webdriver.common.keys import Keys\n",
    "import time # Python 내장함수\n",
    "\n",
    "# 1. Chrome 브라우저 실행\n",
    "driver = webdriver.Chrome()\n",
    "\n",
    "# 2. 타겟 Google 홈페이지 열기\n",
    "url = \"https://www.google.com\"\n",
    "driver.get(url)\n",
    "\n",
    "# 3. 페이지가 완전히 로드될 때까지 2초 대기\n",
    "time.sleep(2)\n",
    "\n",
    "# 4. 검색 기능 - 검색창-> 검색어 입력 -> 엔터 키로 클릭 처리\n",
    "try: # 네트워크 에러가 발생할 수 있기 때문에, 반드시 try, except, finally 구문으로 코딩하기\n",
    "    \n",
    "    # 4-1 검색 상자 요소 찾기\n",
    "    search_box = driver.find_element(By.NAME, \"q\") \n",
    "\n",
    "    # 4-2 검색어 입력\n",
    "    search_query = \"OpenAI\"\n",
    "    search_box.send_keys(search_query) \n",
    "\n",
    "    # 4-3 Enter 키를 눌러 검색 수행\n",
    "    search_box.send_keys(Keys.RETURN) # Selenium 엔터키 입력\n",
    "\n",
    "    # 검색 결과가 로드될 때까지 5초 대기\n",
    "    time.sleep(5)\n",
    "\n",
    "    # 5. 검색에 관련된  결과 추출\n",
    "    search_results = driver.find_elements(By.CSS_SELECTOR, \"div.g\") \n",
    "        \n",
    "    # 5-1 첫 번째 제목과 링크 url 추출\n",
    "    title = search_results[0].find_element(By.CSS_SELECTOR, \"h3\").text\n",
    "    url = search_results[0].find_element(By.CSS_SELECTOR, \"a\").get_attribute(\"href\")\n",
    "    print(\"제목:\", title)\n",
    "    print(\"URL:\", url)\n",
    "\n",
    "    # 5-2 검색 결과의 모든 제목과 링크 URL 인쇄\n",
    "    for result in search_results:\n",
    "        title = result.find_element(By.CSS_SELECTOR, \"h3\").text\n",
    "        url = result.find_element(By.CSS_SELECTOR, \"a\").get_attribute(\"href\")\n",
    "        print(\"제목:\", title)\n",
    "        print(\"URL:\", url)\n",
    "    \n",
    "except Exception as e:\n",
    "    print(\"오류가 발생:\", e)\n",
    "    exit()\n",
    "\n",
    "# finally:\n",
    "#     # 브라우저 창 닫기\n",
    "#     driver.quit()"
   ]
  },
  {
   "cell_type": "markdown",
   "metadata": {},
   "source": [
    "### [문제] Selenium을 이용하여 네이버 증권 웹페이지 열기/ 삼성전자 일별 시세 HTML가져오기/ 10페이지 내역 테이블 데이터 찾기/검색 결과를 데이터프레임으로 변환/저장하기\n",
    "* 타겟 사이트: https://finance.naver.com/item/sise.naver?code=005930* "
   ]
  },
  {
   "cell_type": "code",
   "execution_count": 4,
   "metadata": {},
   "outputs": [],
   "source": [
    "from selenium import webdriver\n",
    "from bs4 import BeautifulSoup\n",
    "import pandas as pd\n",
    "import time"
   ]
  },
  {
   "cell_type": "code",
   "execution_count": 6,
   "metadata": {},
   "outputs": [
    {
     "name": "stderr",
     "output_type": "stream",
     "text": [
      "C:\\Users\\user\\AppData\\Local\\Temp\\ipykernel_2424\\3595332979.py:20: FutureWarning: Passing literal html to 'read_html' is deprecated and will be removed in a future version. To read from a literal string, wrap it in a 'StringIO' object.\n",
      "  df = pd.read_html(html) # 테이블 구조 -> 데이터프레임\n",
      "C:\\Users\\user\\AppData\\Local\\Temp\\ipykernel_2424\\3595332979.py:20: FutureWarning: Passing literal html to 'read_html' is deprecated and will be removed in a future version. To read from a literal string, wrap it in a 'StringIO' object.\n",
      "  df = pd.read_html(html) # 테이블 구조 -> 데이터프레임\n",
      "C:\\Users\\user\\AppData\\Local\\Temp\\ipykernel_2424\\3595332979.py:20: FutureWarning: Passing literal html to 'read_html' is deprecated and will be removed in a future version. To read from a literal string, wrap it in a 'StringIO' object.\n",
      "  df = pd.read_html(html) # 테이블 구조 -> 데이터프레임\n",
      "C:\\Users\\user\\AppData\\Local\\Temp\\ipykernel_2424\\3595332979.py:20: FutureWarning: Passing literal html to 'read_html' is deprecated and will be removed in a future version. To read from a literal string, wrap it in a 'StringIO' object.\n",
      "  df = pd.read_html(html) # 테이블 구조 -> 데이터프레임\n",
      "C:\\Users\\user\\AppData\\Local\\Temp\\ipykernel_2424\\3595332979.py:20: FutureWarning: Passing literal html to 'read_html' is deprecated and will be removed in a future version. To read from a literal string, wrap it in a 'StringIO' object.\n",
      "  df = pd.read_html(html) # 테이블 구조 -> 데이터프레임\n",
      "C:\\Users\\user\\AppData\\Local\\Temp\\ipykernel_2424\\3595332979.py:20: FutureWarning: Passing literal html to 'read_html' is deprecated and will be removed in a future version. To read from a literal string, wrap it in a 'StringIO' object.\n",
      "  df = pd.read_html(html) # 테이블 구조 -> 데이터프레임\n",
      "C:\\Users\\user\\AppData\\Local\\Temp\\ipykernel_2424\\3595332979.py:20: FutureWarning: Passing literal html to 'read_html' is deprecated and will be removed in a future version. To read from a literal string, wrap it in a 'StringIO' object.\n",
      "  df = pd.read_html(html) # 테이블 구조 -> 데이터프레임\n",
      "C:\\Users\\user\\AppData\\Local\\Temp\\ipykernel_2424\\3595332979.py:20: FutureWarning: Passing literal html to 'read_html' is deprecated and will be removed in a future version. To read from a literal string, wrap it in a 'StringIO' object.\n",
      "  df = pd.read_html(html) # 테이블 구조 -> 데이터프레임\n",
      "C:\\Users\\user\\AppData\\Local\\Temp\\ipykernel_2424\\3595332979.py:20: FutureWarning: Passing literal html to 'read_html' is deprecated and will be removed in a future version. To read from a literal string, wrap it in a 'StringIO' object.\n",
      "  df = pd.read_html(html) # 테이블 구조 -> 데이터프레임\n",
      "C:\\Users\\user\\AppData\\Local\\Temp\\ipykernel_2424\\3595332979.py:20: FutureWarning: Passing literal html to 'read_html' is deprecated and will be removed in a future version. To read from a literal string, wrap it in a 'StringIO' object.\n",
      "  df = pd.read_html(html) # 테이블 구조 -> 데이터프레임\n"
     ]
    },
    {
     "data": {
      "text/html": [
       "<div>\n",
       "<style scoped>\n",
       "    .dataframe tbody tr th:only-of-type {\n",
       "        vertical-align: middle;\n",
       "    }\n",
       "\n",
       "    .dataframe tbody tr th {\n",
       "        vertical-align: top;\n",
       "    }\n",
       "\n",
       "    .dataframe thead th {\n",
       "        text-align: right;\n",
       "    }\n",
       "</style>\n",
       "<table border=\"1\" class=\"dataframe\">\n",
       "  <thead>\n",
       "    <tr style=\"text-align: right;\">\n",
       "      <th></th>\n",
       "      <th>날짜</th>\n",
       "      <th>종가</th>\n",
       "      <th>전일비</th>\n",
       "      <th>시가</th>\n",
       "      <th>고가</th>\n",
       "      <th>저가</th>\n",
       "      <th>거래량</th>\n",
       "    </tr>\n",
       "  </thead>\n",
       "  <tbody>\n",
       "    <tr>\n",
       "      <th>0</th>\n",
       "      <td>2024.04.11</td>\n",
       "      <td>84100.0</td>\n",
       "      <td>500.0</td>\n",
       "      <td>83200.0</td>\n",
       "      <td>84700.0</td>\n",
       "      <td>82500.0</td>\n",
       "      <td>25337989.0</td>\n",
       "    </tr>\n",
       "    <tr>\n",
       "      <th>1</th>\n",
       "      <td>2024.04.09</td>\n",
       "      <td>83600.0</td>\n",
       "      <td>900.0</td>\n",
       "      <td>84500.0</td>\n",
       "      <td>84900.0</td>\n",
       "      <td>83100.0</td>\n",
       "      <td>23725956.0</td>\n",
       "    </tr>\n",
       "    <tr>\n",
       "      <th>2</th>\n",
       "      <td>2024.04.08</td>\n",
       "      <td>84500.0</td>\n",
       "      <td>0.0</td>\n",
       "      <td>85200.0</td>\n",
       "      <td>86000.0</td>\n",
       "      <td>84500.0</td>\n",
       "      <td>18953232.0</td>\n",
       "    </tr>\n",
       "    <tr>\n",
       "      <th>3</th>\n",
       "      <td>2024.04.05</td>\n",
       "      <td>84500.0</td>\n",
       "      <td>800.0</td>\n",
       "      <td>84500.0</td>\n",
       "      <td>85000.0</td>\n",
       "      <td>83800.0</td>\n",
       "      <td>18883752.0</td>\n",
       "    </tr>\n",
       "    <tr>\n",
       "      <th>4</th>\n",
       "      <td>2024.04.04</td>\n",
       "      <td>85300.0</td>\n",
       "      <td>1200.0</td>\n",
       "      <td>85200.0</td>\n",
       "      <td>85500.0</td>\n",
       "      <td>84300.0</td>\n",
       "      <td>25248934.0</td>\n",
       "    </tr>\n",
       "    <tr>\n",
       "      <th>5</th>\n",
       "      <td>2024.04.03</td>\n",
       "      <td>84100.0</td>\n",
       "      <td>900.0</td>\n",
       "      <td>84300.0</td>\n",
       "      <td>85000.0</td>\n",
       "      <td>83500.0</td>\n",
       "      <td>30493347.0</td>\n",
       "    </tr>\n",
       "    <tr>\n",
       "      <th>6</th>\n",
       "      <td>2024.04.02</td>\n",
       "      <td>85000.0</td>\n",
       "      <td>3000.0</td>\n",
       "      <td>82900.0</td>\n",
       "      <td>85000.0</td>\n",
       "      <td>82900.0</td>\n",
       "      <td>37077944.0</td>\n",
       "    </tr>\n",
       "    <tr>\n",
       "      <th>7</th>\n",
       "      <td>2024.04.01</td>\n",
       "      <td>82000.0</td>\n",
       "      <td>400.0</td>\n",
       "      <td>83200.0</td>\n",
       "      <td>83300.0</td>\n",
       "      <td>82000.0</td>\n",
       "      <td>20116513.0</td>\n",
       "    </tr>\n",
       "    <tr>\n",
       "      <th>8</th>\n",
       "      <td>2024.03.29</td>\n",
       "      <td>82400.0</td>\n",
       "      <td>1600.0</td>\n",
       "      <td>81200.0</td>\n",
       "      <td>82500.0</td>\n",
       "      <td>80900.0</td>\n",
       "      <td>27126366.0</td>\n",
       "    </tr>\n",
       "    <tr>\n",
       "      <th>9</th>\n",
       "      <td>2024.03.28</td>\n",
       "      <td>80800.0</td>\n",
       "      <td>1000.0</td>\n",
       "      <td>79400.0</td>\n",
       "      <td>81000.0</td>\n",
       "      <td>79200.0</td>\n",
       "      <td>25084812.0</td>\n",
       "    </tr>\n",
       "    <tr>\n",
       "      <th>10</th>\n",
       "      <td>2024.03.27</td>\n",
       "      <td>79800.0</td>\n",
       "      <td>100.0</td>\n",
       "      <td>79200.0</td>\n",
       "      <td>80000.0</td>\n",
       "      <td>79200.0</td>\n",
       "      <td>17424595.0</td>\n",
       "    </tr>\n",
       "    <tr>\n",
       "      <th>11</th>\n",
       "      <td>2024.03.26</td>\n",
       "      <td>79900.0</td>\n",
       "      <td>1700.0</td>\n",
       "      <td>79700.0</td>\n",
       "      <td>80100.0</td>\n",
       "      <td>79200.0</td>\n",
       "      <td>30551494.0</td>\n",
       "    </tr>\n",
       "    <tr>\n",
       "      <th>12</th>\n",
       "      <td>2024.03.25</td>\n",
       "      <td>78200.0</td>\n",
       "      <td>700.0</td>\n",
       "      <td>79600.0</td>\n",
       "      <td>79800.0</td>\n",
       "      <td>77800.0</td>\n",
       "      <td>18703996.0</td>\n",
       "    </tr>\n",
       "    <tr>\n",
       "      <th>13</th>\n",
       "      <td>2024.03.22</td>\n",
       "      <td>78900.0</td>\n",
       "      <td>400.0</td>\n",
       "      <td>79600.0</td>\n",
       "      <td>79900.0</td>\n",
       "      <td>77800.0</td>\n",
       "      <td>26724761.0</td>\n",
       "    </tr>\n",
       "    <tr>\n",
       "      <th>14</th>\n",
       "      <td>2024.03.21</td>\n",
       "      <td>79300.0</td>\n",
       "      <td>2400.0</td>\n",
       "      <td>79200.0</td>\n",
       "      <td>79300.0</td>\n",
       "      <td>77700.0</td>\n",
       "      <td>44569799.0</td>\n",
       "    </tr>\n",
       "    <tr>\n",
       "      <th>15</th>\n",
       "      <td>2024.03.20</td>\n",
       "      <td>76900.0</td>\n",
       "      <td>4100.0</td>\n",
       "      <td>73700.0</td>\n",
       "      <td>77200.0</td>\n",
       "      <td>73400.0</td>\n",
       "      <td>50106297.0</td>\n",
       "    </tr>\n",
       "    <tr>\n",
       "      <th>16</th>\n",
       "      <td>2024.03.19</td>\n",
       "      <td>72800.0</td>\n",
       "      <td>0.0</td>\n",
       "      <td>72300.0</td>\n",
       "      <td>73000.0</td>\n",
       "      <td>71700.0</td>\n",
       "      <td>15376066.0</td>\n",
       "    </tr>\n",
       "    <tr>\n",
       "      <th>17</th>\n",
       "      <td>2024.03.18</td>\n",
       "      <td>72800.0</td>\n",
       "      <td>500.0</td>\n",
       "      <td>72600.0</td>\n",
       "      <td>73000.0</td>\n",
       "      <td>72500.0</td>\n",
       "      <td>11520348.0</td>\n",
       "    </tr>\n",
       "    <tr>\n",
       "      <th>18</th>\n",
       "      <td>2024.03.15</td>\n",
       "      <td>72300.0</td>\n",
       "      <td>2000.0</td>\n",
       "      <td>73400.0</td>\n",
       "      <td>73700.0</td>\n",
       "      <td>72300.0</td>\n",
       "      <td>22580555.0</td>\n",
       "    </tr>\n",
       "    <tr>\n",
       "      <th>19</th>\n",
       "      <td>2024.03.14</td>\n",
       "      <td>74300.0</td>\n",
       "      <td>200.0</td>\n",
       "      <td>74400.0</td>\n",
       "      <td>74500.0</td>\n",
       "      <td>73600.0</td>\n",
       "      <td>22545539.0</td>\n",
       "    </tr>\n",
       "  </tbody>\n",
       "</table>\n",
       "</div>"
      ],
      "text/plain": [
       "            날짜       종가     전일비       시가       고가       저가         거래량\n",
       "0   2024.04.11  84100.0   500.0  83200.0  84700.0  82500.0  25337989.0\n",
       "1   2024.04.09  83600.0   900.0  84500.0  84900.0  83100.0  23725956.0\n",
       "2   2024.04.08  84500.0     0.0  85200.0  86000.0  84500.0  18953232.0\n",
       "3   2024.04.05  84500.0   800.0  84500.0  85000.0  83800.0  18883752.0\n",
       "4   2024.04.04  85300.0  1200.0  85200.0  85500.0  84300.0  25248934.0\n",
       "5   2024.04.03  84100.0   900.0  84300.0  85000.0  83500.0  30493347.0\n",
       "6   2024.04.02  85000.0  3000.0  82900.0  85000.0  82900.0  37077944.0\n",
       "7   2024.04.01  82000.0   400.0  83200.0  83300.0  82000.0  20116513.0\n",
       "8   2024.03.29  82400.0  1600.0  81200.0  82500.0  80900.0  27126366.0\n",
       "9   2024.03.28  80800.0  1000.0  79400.0  81000.0  79200.0  25084812.0\n",
       "10  2024.03.27  79800.0   100.0  79200.0  80000.0  79200.0  17424595.0\n",
       "11  2024.03.26  79900.0  1700.0  79700.0  80100.0  79200.0  30551494.0\n",
       "12  2024.03.25  78200.0   700.0  79600.0  79800.0  77800.0  18703996.0\n",
       "13  2024.03.22  78900.0   400.0  79600.0  79900.0  77800.0  26724761.0\n",
       "14  2024.03.21  79300.0  2400.0  79200.0  79300.0  77700.0  44569799.0\n",
       "15  2024.03.20  76900.0  4100.0  73700.0  77200.0  73400.0  50106297.0\n",
       "16  2024.03.19  72800.0     0.0  72300.0  73000.0  71700.0  15376066.0\n",
       "17  2024.03.18  72800.0   500.0  72600.0  73000.0  72500.0  11520348.0\n",
       "18  2024.03.15  72300.0  2000.0  73400.0  73700.0  72300.0  22580555.0\n",
       "19  2024.03.14  74300.0   200.0  74400.0  74500.0  73600.0  22545539.0"
      ]
     },
     "execution_count": 6,
     "metadata": {},
     "output_type": "execute_result"
    }
   ],
   "source": [
    "#1. 크롬 드라이버 실행\n",
    "driver= webdriver.Chrome()\n",
    "\n",
    "# 2페이지 로딩 시간\n",
    "time.sleep(2)\n",
    "\n",
    "# 3. 크롤링 사이트 : 삼성전자의 일별 시세 페이지 URL 찾기\n",
    "samsung_url =\"https://finance.naver.com/item/sise_day.naver?code=005930&page=\" #base url\n",
    "\n",
    "# 4. 첫 페이지부터 10 페이지까지 테이블 담기\n",
    "samsung_daily_kospi = [] # 리스트 선언\n",
    "for num in range(1,11):\n",
    "    full_url = samsung_url + str(num)\n",
    "    # 4.1 해당 페이지 요청\n",
    "    driver.get(full_url)\n",
    "        \n",
    "    try:\n",
    "        # 4.2 페이지의 HTML 가져오기\n",
    "        html = driver.page_source\n",
    "        df = pd.read_html(html) # 테이블 구조 -> 데이터프레임\n",
    "        # print(df) #df는 리스트 형\n",
    "        \n",
    "        # 4.3 결측치 처리 - 조건 색인을 이용한 불리언 인덱싱\n",
    "        ## 조건 색인\n",
    "        cond = df[0]['날짜'].notnull() #df의 0번째 인덱 \n",
    "        samsung_day = df[0][cond]\n",
    "        ## 리스트에 담기\n",
    "        samsung_daily_kospi.append(samsung_day)\n",
    "                \n",
    "    except Exception as e:\n",
    "        print(\"Network Error\",e)\n",
    "    \n",
    "    # finally: \n",
    "    #     driver.quit()\n",
    "\n",
    " # 5. 데이터프레임 합치기\n",
    "samsung_daily_kospi_all = pd.concat(samsung_daily_kospi, ignore_index=True)\n",
    "samsung_daily_kospi_all.head(20)\n",
    "# 6. csv 파일로 저장\n",
    "# samsung_daily_kospi_all.to_csv(\"samsung_daily_kospi_2024_04_11.csv\")"
   ]
  },
  {
   "cell_type": "code",
   "execution_count": null,
   "metadata": {},
   "outputs": [],
   "source": []
  },
  {
   "cell_type": "code",
   "execution_count": null,
   "metadata": {},
   "outputs": [],
   "source": []
  }
 ],
 "metadata": {
  "kernelspec": {
   "display_name": "Python 3 (ipykernel)",
   "language": "python",
   "name": "python3"
  },
  "language_info": {
   "codemirror_mode": {
    "name": "ipython",
    "version": 3
   },
   "file_extension": ".py",
   "mimetype": "text/x-python",
   "name": "python",
   "nbconvert_exporter": "python",
   "pygments_lexer": "ipython3",
   "version": "3.9.0"
  }
 },
 "nbformat": 4,
 "nbformat_minor": 4
}
